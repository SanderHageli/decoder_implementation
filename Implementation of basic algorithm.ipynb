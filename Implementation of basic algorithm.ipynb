{
 "cells": [
  {
   "cell_type": "code",
   "execution_count": 1,
   "id": "8c513d8c",
   "metadata": {},
   "outputs": [],
   "source": [
    "from sage.all import *\n",
    "import random"
   ]
  },
  {
   "cell_type": "code",
   "execution_count": 2,
   "id": "7e37f477",
   "metadata": {},
   "outputs": [],
   "source": [
    "q = Integer(4)\n",
    "r = Integer(37)\n",
    "d = r-10\n",
    "g = Integer(int((q**2-q)/2))\n",
    "k.<z> = GF(q**2,\"z\", modulus=\"primitive\", repr=\"log\")\n",
    "F = VectorSpace(k,q**3)"
   ]
  },
  {
   "cell_type": "code",
   "execution_count": 11,
   "id": "39dd0893",
   "metadata": {},
   "outputs": [],
   "source": [
    "def gen_riemann_roch_basis(m):\n",
    "    \"\"\"Generates a basis for the Riemann-Roch space L(D,mQ)\"\"\"\n",
    "    basis, i, j = [], 0, 0\n",
    "    while q*(i-j) + (q+1)*j <= m:\n",
    "        for j in range(i+1):\n",
    "            if j<q and q*(i-j) + (q+1)*j <= m:\n",
    "                basis.append(lambda x,y, exp1=i-j, exp2=j: (x**exp1)*(y**exp2)) #basis is generated is such a way to get the order 1,x,y,x^2,xy,y^2,...\n",
    "        j,i=0,i+1\n",
    "    return basis\n",
    "\n",
    "def find_curve_points():\n",
    "    points = []\n",
    "    for i in k:\n",
    "        for j in k:\n",
    "            if j**q + j == i**(q+1): #cycles through the field elements to see if they satisfies the equation\n",
    "                points.append((i,j))\n",
    "    return points\n",
    "\n",
    "def generate_error(m):\n",
    "    \"\"\"Generates a vector with random field elements at m random vector indices\"\"\"\n",
    "    error_indices, error_vector = random.sample(range(q**3),m), []\n",
    "    for  i in range(q**3):\n",
    "        if i in error_indices:\n",
    "            error_vector.append(k.random_element())\n",
    "        else:\n",
    "            error_vector.append(0)\n",
    "    return error_indices,F(error_vector)\n",
    "\n",
    "def parity_matrix():\n",
    "    M, v = MatrixSpace(k,len(riemann_roch_basis),q**3), []\n",
    "    for h in c_r_basis:\n",
    "        v+=h\n",
    "    return M(v)\n",
    "\n",
    "def evaluate(f, points):\n",
    "    return F([f(point[0],point[1]) for point in points])\n",
    "\n",
    "def generate_codeword():\n",
    "    riemann_roch_basis = gen_riemann_roch_basis(q**3+q**2-q-2-r)\n",
    "    coeffs = [k.random_element() for i in riemann_roch_basis]\n",
    "    g = lambda x,y: sum([coeffs[i]*riemann_roch_basis[i](x,y) for i in range(len(coeffs))]) #inner product compatible with the evaluation funciton\n",
    "    return evaluate(g,points)\n",
    "\n",
    "def syndrome(i,j,word):\n",
    "    return word.inner_product(c_r_basis[i].pairwise_product(c_r_basis[j]))\n",
    "\n",
    "def syndrome_matrix(a,b,word):\n",
    "    M, v = MatrixSpace(k,a,b), []\n",
    "    for i in range(a):\n",
    "        v+=[syndrome(i,j,word) for j in range(b)]\n",
    "    return M(v)\n",
    "\n",
    "def N(f):\n",
    "    \"\"\"Finds the correpsonding indecies where f is zero at\"\"\"\n",
    "    g = lambda x,y: sum([f[i]*riemann_roch_basis[i](x,y) for i in range(len(f))])\n",
    "    g_evaluate, zero_indices = evaluate(g,points), []\n",
    "    for i in range(q**3):\n",
    "        if g_evaluate[i]==0:\n",
    "            zero_indices.append(i)\n",
    "    return zero_indices\n",
    "\n",
    "def solve_matrix_system(y,H,indices: list):\n",
    "    \"\"\"Solves the linear system xH=yH with y being zero at the indices spesified in indices\"\"\"\n",
    "    HT,v = H.transpose(), []\n",
    "    for i in indices:\n",
    "        v+= [j for j in HT[i]]\n",
    "    reduced_matrix = MatrixSpace(k,len(indices),len(HT[0]))(v).transpose()\n",
    "    solution = [i for i in reduced_matrix.solve_right(H*y)]\n",
    "    \n",
    "    append_zeroes = [0]*(q**3)\n",
    "    for i in range(q**3):\n",
    "        if i in indices:\n",
    "            append_zeroes[i] = solution[0]\n",
    "            del solution[0]\n",
    "    return F(append_zeroes)\n",
    "\n",
    "def decoder(word):\n",
    "    ker = syndrome_matrix(r_1-g+1, r-r_1-g+1, word).right_kernel()\n",
    "    if len(ker)==1:\n",
    "        return \"Cannot decode. Kernel is trivial\"\n",
    "    elif len(N(ker[1]))>=d:\n",
    "        return \"Cannot decode. N(f) has more than d elements\"\n",
    "    else:\n",
    "        H = parity_matrix()\n",
    "        potential_error = solve_matrix_system(word,H,N(ker[1]))\n",
    "        return word-potential_error"
   ]
  },
  {
   "cell_type": "code",
   "execution_count": 7,
   "id": "8cb90745",
   "metadata": {},
   "outputs": [
    {
     "name": "stdout",
     "output_type": "stream",
     "text": [
      "True\n"
     ]
    }
   ],
   "source": [
    "points = find_curve_points()\n",
    "riemann_roch_basis = gen_riemann_roch_basis(r)\n",
    "c_r_basis = [evaluate(f, points) for f in riemann_roch_basis]\n",
    "\n",
    "n = Integer(int((d-1-g)/2))\n",
    "r_1 = 21\n",
    "\n",
    "codeword = generate_codeword()\n",
    "error_indices,error_vector = generate_error(n)\n",
    "y = codeword + error_vector\n",
    "\n",
    "x = decoder(y)\n",
    "print(x==codeword)"
   ]
  }
 ],
 "metadata": {
  "kernelspec": {
   "display_name": "SageMath 9.5",
   "language": "sage",
   "name": "sagemath"
  },
  "language_info": {
   "codemirror_mode": {
    "name": "ipython",
    "version": 3
   },
   "file_extension": ".py",
   "mimetype": "text/x-python",
   "name": "python",
   "nbconvert_exporter": "python",
   "pygments_lexer": "ipython3",
   "version": "3.10.12"
  }
 },
 "nbformat": 4,
 "nbformat_minor": 5
}
